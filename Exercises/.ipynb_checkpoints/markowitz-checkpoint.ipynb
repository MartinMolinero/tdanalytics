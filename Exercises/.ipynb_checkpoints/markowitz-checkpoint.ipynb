{
 "cells": [
  {
   "cell_type": "code",
   "execution_count": 1,
   "metadata": {},
   "outputs": [
    {
     "name": "stderr",
     "output_type": "stream",
     "text": [
      "/Users/martin.molinero/opt/anaconda3/lib/python3.7/site-packages/pandas_datareader/compat/__init__.py:7: FutureWarning: pandas.util.testing is deprecated. Use the functions in the public API at pandas.testing instead.\n",
      "  from pandas.util.testing import assert_frame_equal\n"
     ]
    }
   ],
   "source": [
    "import numpy as np\n",
    "import pandas as pd\n",
    "from pandas_datareader import data as wb\n",
    "import matplotlib.pyplot as plt\n",
    "%matplotlib inline"
   ]
  },
  {
   "cell_type": "code",
   "execution_count": 5,
   "metadata": {},
   "outputs": [],
   "source": [
    "assets = ['PG', '^GSPC']\n",
    "pf_data = pd.DataFrame()\n",
    "\n",
    "for a in assets:\n",
    "    pf_data[a] = wb.DataReader(a, data_source='yahoo', start='2010-1-1')['Adj Close']"
   ]
  },
  {
   "cell_type": "code",
   "execution_count": 6,
   "metadata": {},
   "outputs": [
    {
     "data": {
      "text/html": [
       "<div>\n",
       "<style scoped>\n",
       "    .dataframe tbody tr th:only-of-type {\n",
       "        vertical-align: middle;\n",
       "    }\n",
       "\n",
       "    .dataframe tbody tr th {\n",
       "        vertical-align: top;\n",
       "    }\n",
       "\n",
       "    .dataframe thead th {\n",
       "        text-align: right;\n",
       "    }\n",
       "</style>\n",
       "<table border=\"1\" class=\"dataframe\">\n",
       "  <thead>\n",
       "    <tr style=\"text-align: right;\">\n",
       "      <th></th>\n",
       "      <th>PG</th>\n",
       "      <th>^GSPC</th>\n",
       "    </tr>\n",
       "    <tr>\n",
       "      <th>Date</th>\n",
       "      <th></th>\n",
       "      <th></th>\n",
       "    </tr>\n",
       "  </thead>\n",
       "  <tbody>\n",
       "    <tr>\n",
       "      <th>2020-06-19</th>\n",
       "      <td>118.919998</td>\n",
       "      <td>3097.739990</td>\n",
       "    </tr>\n",
       "    <tr>\n",
       "      <th>2020-06-22</th>\n",
       "      <td>117.750000</td>\n",
       "      <td>3117.860107</td>\n",
       "    </tr>\n",
       "    <tr>\n",
       "      <th>2020-06-23</th>\n",
       "      <td>117.730003</td>\n",
       "      <td>3131.290039</td>\n",
       "    </tr>\n",
       "    <tr>\n",
       "      <th>2020-06-24</th>\n",
       "      <td>116.419998</td>\n",
       "      <td>3050.330078</td>\n",
       "    </tr>\n",
       "    <tr>\n",
       "      <th>2020-06-25</th>\n",
       "      <td>117.237000</td>\n",
       "      <td>3057.620117</td>\n",
       "    </tr>\n",
       "  </tbody>\n",
       "</table>\n",
       "</div>"
      ],
      "text/plain": [
       "                    PG        ^GSPC\n",
       "Date                               \n",
       "2020-06-19  118.919998  3097.739990\n",
       "2020-06-22  117.750000  3117.860107\n",
       "2020-06-23  117.730003  3131.290039\n",
       "2020-06-24  116.419998  3050.330078\n",
       "2020-06-25  117.237000  3057.620117"
      ]
     },
     "execution_count": 6,
     "metadata": {},
     "output_type": "execute_result"
    }
   ],
   "source": [
    "pf_data.tail()\n"
   ]
  },
  {
   "cell_type": "code",
   "execution_count": 7,
   "metadata": {},
   "outputs": [
    {
     "data": {
      "text/plain": [
       "<matplotlib.axes._subplots.AxesSubplot at 0x7fde8cae7250>"
      ]
     },
     "execution_count": 7,
     "metadata": {},
     "output_type": "execute_result"
    },
    {
     "data": {
      "image/png": "[encoded data removed]",
      "text/plain": [
       "<Figure size 576x360 with 1 Axes>"
      ]
     },
     "metadata": {
      "needs_background": "light"
     },
     "output_type": "display_data"
    }
   ],
   "source": [
    "(pf_data/pf_data.iloc[0] * 100).plot(figsize=(8,5))"
   ]
  },
  {
   "cell_type": "code",
   "execution_count": 8,
   "metadata": {},
   "outputs": [],
   "source": [
    "log_returns = np.log(pf_data/pf_data.shift(1))"
   ]
  },
  {
   "cell_type": "code",
   "execution_count": 10,
   "metadata": {},
   "outputs": [
    {
     "data": {
      "text/plain": [
       "PG       0.092783\n",
       "^GSPC    0.094120\n",
       "dtype: float64"
      ]
     },
     "execution_count": 10,
     "metadata": {},
     "output_type": "execute_result"
    }
   ],
   "source": [
    "log_returns.mean() * 250"
   ]
  },
  {
   "cell_type": "code",
   "execution_count": 11,
   "metadata": {},
   "outputs": [
    {
     "data": {
      "text/html": [
       "<div>\n",
       "<style scoped>\n",
       "    .dataframe tbody tr th:only-of-type {\n",
       "        vertical-align: middle;\n",
       "    }\n",
       "\n",
       "    .dataframe tbody tr th {\n",
       "        vertical-align: top;\n",
       "    }\n",
       "\n",
       "    .dataframe thead th {\n",
       "        text-align: right;\n",
       "    }\n",
       "</style>\n",
       "<table border=\"1\" class=\"dataframe\">\n",
       "  <thead>\n",
       "    <tr style=\"text-align: right;\">\n",
       "      <th></th>\n",
       "      <th>PG</th>\n",
       "      <th>^GSPC</th>\n",
       "    </tr>\n",
       "  </thead>\n",
       "  <tbody>\n",
       "    <tr>\n",
       "      <th>PG</th>\n",
       "      <td>0.029533</td>\n",
       "      <td>0.017988</td>\n",
       "    </tr>\n",
       "    <tr>\n",
       "      <th>^GSPC</th>\n",
       "      <td>0.017988</td>\n",
       "      <td>0.030673</td>\n",
       "    </tr>\n",
       "  </tbody>\n",
       "</table>\n",
       "</div>"
      ],
      "text/plain": [
       "             PG     ^GSPC\n",
       "PG     0.029533  0.017988\n",
       "^GSPC  0.017988  0.030673"
      ]
     },
     "execution_count": 11,
     "metadata": {},
     "output_type": "execute_result"
    }
   ],
   "source": [
    "log_returns.cov() * 250"
   ]
  },
  {
   "cell_type": "code",
   "execution_count": 12,
   "metadata": {},
   "outputs": [
    {
     "data": {
      "text/html": [
       "<div>\n",
       "<style scoped>\n",
       "    .dataframe tbody tr th:only-of-type {\n",
       "        vertical-align: middle;\n",
       "    }\n",
       "\n",
       "    .dataframe tbody tr th {\n",
       "        vertical-align: top;\n",
       "    }\n",
       "\n",
       "    .dataframe thead th {\n",
       "        text-align: right;\n",
       "    }\n",
       "</style>\n",
       "<table border=\"1\" class=\"dataframe\">\n",
       "  <thead>\n",
       "    <tr style=\"text-align: right;\">\n",
       "      <th></th>\n",
       "      <th>PG</th>\n",
       "      <th>^GSPC</th>\n",
       "    </tr>\n",
       "  </thead>\n",
       "  <tbody>\n",
       "    <tr>\n",
       "      <th>PG</th>\n",
       "      <td>1.000000</td>\n",
       "      <td>0.597645</td>\n",
       "    </tr>\n",
       "    <tr>\n",
       "      <th>^GSPC</th>\n",
       "      <td>0.597645</td>\n",
       "      <td>1.000000</td>\n",
       "    </tr>\n",
       "  </tbody>\n",
       "</table>\n",
       "</div>"
      ],
      "text/plain": [
       "             PG     ^GSPC\n",
       "PG     1.000000  0.597645\n",
       "^GSPC  0.597645  1.000000"
      ]
     },
     "execution_count": 12,
     "metadata": {},
     "output_type": "execute_result"
    }
   ],
   "source": [
    "log_returns.corr()"
   ]
  },
  {
   "cell_type": "code",
   "execution_count": 13,
   "metadata": {},
   "outputs": [],
   "source": [
    "num_assets = len(assets)"
   ]
  },
  {
   "cell_type": "code",
   "execution_count": 14,
   "metadata": {},
   "outputs": [
    {
     "data": {
      "text/plain": [
       "2"
      ]
     },
     "execution_count": 14,
     "metadata": {},
     "output_type": "execute_result"
    }
   ],
   "source": [
    "num_assets"
   ]
  },
  {
   "cell_type": "code",
   "execution_count": 16,
   "metadata": {},
   "outputs": [
    {
     "data": {
      "text/plain": [
       "array([0.97715227, 0.78464384])"
      ]
     },
     "execution_count": 16,
     "metadata": {},
     "output_type": "execute_result"
    }
   ],
   "source": [
    "random_weights = np.random.random(2)\n",
    "random_weights"
   ]
  },
  {
   "cell_type": "code",
   "execution_count": 17,
   "metadata": {},
   "outputs": [
    {
     "data": {
      "text/plain": [
       "1.7617961081126414"
      ]
     },
     "execution_count": 17,
     "metadata": {},
     "output_type": "execute_result"
    }
   ],
   "source": [
    "random_weights[0] + random_weights[1]"
   ]
  },
  {
   "cell_type": "code",
   "execution_count": 19,
   "metadata": {},
   "outputs": [
    {
     "data": {
      "text/plain": [
       "array([0.9392482, 0.0607518])"
      ]
     },
     "execution_count": 19,
     "metadata": {},
     "output_type": "execute_result"
    }
   ],
   "source": [
    "weights = np.random.random(num_assets)\n",
    "weights /= np.sum(weights)\n",
    "weights"
   ]
  },
  {
   "cell_type": "code",
   "execution_count": 20,
   "metadata": {},
   "outputs": [
    {
     "data": {
      "text/plain": [
       "1.0"
      ]
     },
     "execution_count": 20,
     "metadata": {},
     "output_type": "execute_result"
    }
   ],
   "source": [
    "weights[0] + weights[1]"
   ]
  },
  {
   "cell_type": "markdown",
   "metadata": {},
   "source": [
    "## Expected portfolio data\n"
   ]
  },
  {
   "cell_type": "code",
   "execution_count": 22,
   "metadata": {},
   "outputs": [
    {
     "data": {
      "text/plain": [
       "0.09286399769023015"
      ]
     },
     "execution_count": 22,
     "metadata": {},
     "output_type": "execute_result"
    }
   ],
   "source": [
    "# expected return\n",
    "np.sum(weights * log_returns.mean()) * 250"
   ]
  },
  {
   "cell_type": "code",
   "execution_count": 25,
   "metadata": {},
   "outputs": [
    {
     "data": {
      "text/plain": [
       "0.028219822886544985"
      ]
     },
     "execution_count": 25,
     "metadata": {},
     "output_type": "execute_result"
    }
   ],
   "source": [
    "# expected variance\n",
    "np.dot(weights.T, np.dot(log_returns.cov()*250, weights))"
   ]
  },
  {
   "cell_type": "code",
   "execution_count": 26,
   "metadata": {},
   "outputs": [
    {
     "data": {
      "text/plain": [
       "0.16798756765470765"
      ]
     },
     "execution_count": 26,
     "metadata": {},
     "output_type": "execute_result"
    }
   ],
   "source": [
    "# volatility\n",
    "np.sqrt(np.dot(weights.T, np.dot(log_returns.cov()*250, weights)))"
   ]
  },
  {
   "cell_type": "code",
   "execution_count": 28,
   "metadata": {},
   "outputs": [
    {
     "data": {
      "text/plain": [
       "(array([0.09355611, 0.09389358, 0.0933901 , 0.09358201, 0.09314159,\n",
       "        0.09360343, 0.09397287, 0.09357631, 0.09301046, 0.09343706,\n",
       "        0.09356481, 0.09388255, 0.09307501, 0.0936851 , 0.09297513,\n",
       "        0.09305833, 0.0928966 , 0.09304754, 0.09384409, 0.09402865,\n",
       "        0.09363362, 0.09343349, 0.09334441, 0.09336626, 0.09338877,\n",
       "        0.09378535, 0.09388217, 0.09312486, 0.09310652, 0.09293663,\n",
       "        0.09354612, 0.09348214, 0.09278382, 0.09325402, 0.09348245,\n",
       "        0.09297252, 0.09373938, 0.09364846, 0.09365274, 0.09314626,\n",
       "        0.09383734, 0.09304683, 0.09334948, 0.09340785, 0.09339192,\n",
       "        0.09344889, 0.09387164, 0.09337816, 0.09405947, 0.09377101,\n",
       "        0.0934553 , 0.09360804, 0.09377951, 0.09359227, 0.09367876,\n",
       "        0.09394347, 0.09362672, 0.09329459, 0.09400546, 0.0935174 ,\n",
       "        0.09349976, 0.09319955, 0.09352686, 0.09348678, 0.09397083,\n",
       "        0.09372675, 0.09392016, 0.09403805, 0.09355688, 0.09374286,\n",
       "        0.09411739, 0.09355122, 0.09362766, 0.09359611, 0.09408077,\n",
       "        0.0937688 , 0.0935695 , 0.09308064, 0.09336774, 0.09363612,\n",
       "        0.09345041, 0.09364191, 0.09348486, 0.09378511, 0.09336679,\n",
       "        0.0938708 , 0.09352915, 0.09398248, 0.09354155, 0.09304256,\n",
       "        0.09360593, 0.09378968, 0.09374573, 0.09354832, 0.09383309,\n",
       "        0.09408578, 0.09292039, 0.09344705, 0.09344216, 0.09402275,\n",
       "        0.09335753, 0.09313811, 0.09366586, 0.09363389, 0.09386465,\n",
       "        0.09314227, 0.09344517, 0.09391287, 0.0936304 , 0.09279281,\n",
       "        0.09349134, 0.0937326 , 0.09292951, 0.09387003, 0.09391208,\n",
       "        0.09349738, 0.09353876, 0.09365186, 0.09350277, 0.0928715 ,\n",
       "        0.09336293, 0.09344174, 0.09375537, 0.09290592, 0.09374376,\n",
       "        0.09405663, 0.09400996, 0.09330334, 0.09319915, 0.09325901,\n",
       "        0.09300512, 0.09342502, 0.09312783, 0.0940776 , 0.09290075,\n",
       "        0.09352229, 0.09327196, 0.09361212, 0.09316728, 0.09315593,\n",
       "        0.09304011, 0.09367416, 0.09359906, 0.09325222, 0.09398599,\n",
       "        0.09289701, 0.09281455, 0.09322678, 0.09347353, 0.09364483,\n",
       "        0.09311341, 0.09307042, 0.09321349, 0.09312973, 0.09347442,\n",
       "        0.09288545, 0.0931551 , 0.0936593 , 0.09334162, 0.09331773,\n",
       "        0.09355132, 0.09319851, 0.09311293, 0.09329286, 0.0938182 ,\n",
       "        0.09342746, 0.09341335, 0.09399503, 0.09281084, 0.09361842,\n",
       "        0.09356515, 0.09300597, 0.09349499, 0.09324443, 0.09341394,\n",
       "        0.09339597, 0.09339484, 0.09299914, 0.09376852, 0.09317486,\n",
       "        0.09335999, 0.09324884, 0.09365682, 0.09319138, 0.09343103,\n",
       "        0.09356761, 0.0930771 , 0.0932816 , 0.09328431, 0.09383315,\n",
       "        0.09344552, 0.09352981, 0.09355271, 0.09323616, 0.09328648,\n",
       "        0.09323159, 0.09347133, 0.09296137, 0.09363873, 0.09370979,\n",
       "        0.09352857, 0.0936522 , 0.0937721 , 0.09310496, 0.09364965,\n",
       "        0.09280784, 0.09334732, 0.09366105, 0.09349114, 0.09328581,\n",
       "        0.09279893, 0.09340905, 0.09402228, 0.0935211 , 0.09365522,\n",
       "        0.09335288, 0.09286506, 0.09279088, 0.09356808, 0.09316285,\n",
       "        0.09342393, 0.09325507, 0.09395423, 0.09344834, 0.09317073,\n",
       "        0.09384208, 0.09329493, 0.09360496, 0.09336014, 0.09338293,\n",
       "        0.09376967, 0.09365659, 0.09370826, 0.09280976, 0.09293119,\n",
       "        0.09343908, 0.09338571, 0.09357472, 0.09398626, 0.09388236,\n",
       "        0.09352783, 0.0929916 , 0.09324085, 0.09334091, 0.09304676,\n",
       "        0.09349012, 0.09294559, 0.09283725, 0.09339476, 0.09280231,\n",
       "        0.09339934, 0.09324357, 0.09326508, 0.09351257, 0.09308563,\n",
       "        0.09290914, 0.09309065, 0.0934944 , 0.09350381, 0.09376839,\n",
       "        0.09377863, 0.0932665 , 0.09345455, 0.09283624, 0.0936815 ,\n",
       "        0.09295928, 0.09376401, 0.09369554, 0.09318607, 0.09358888,\n",
       "        0.09340882, 0.09289018, 0.09330912, 0.09382859, 0.09346695,\n",
       "        0.0934001 , 0.09295007, 0.09376342, 0.09382932, 0.09333812,\n",
       "        0.09330911, 0.09289   , 0.09336046, 0.0930098 , 0.09379128,\n",
       "        0.09373493, 0.09326948, 0.09329588, 0.09373696, 0.09311298,\n",
       "        0.09317264, 0.09344576, 0.09372264, 0.09377671, 0.09361401,\n",
       "        0.09380105, 0.09301839, 0.09392963, 0.09349815, 0.09345769,\n",
       "        0.09367547, 0.09383569, 0.09361296, 0.09335675, 0.09316068,\n",
       "        0.09302497, 0.09372239, 0.09326517, 0.09371541, 0.09374236,\n",
       "        0.09298284, 0.09374456, 0.09304035, 0.09334489, 0.09301046,\n",
       "        0.09348829, 0.09300466, 0.09307475, 0.09352477, 0.0936397 ,\n",
       "        0.09367816, 0.09357592, 0.0937843 , 0.09360172, 0.09387876,\n",
       "        0.09351899, 0.09365485, 0.09333613, 0.09362242, 0.09407974,\n",
       "        0.09340468, 0.09351528, 0.09409472, 0.09291014, 0.09339962,\n",
       "        0.09371655, 0.09372284, 0.09339928, 0.09311148, 0.09296617,\n",
       "        0.09353701, 0.09400469, 0.09330694, 0.0939067 , 0.09343391,\n",
       "        0.09300043, 0.09362836, 0.09348413, 0.09334979, 0.09361852,\n",
       "        0.09332698, 0.09366766, 0.09346563, 0.0934708 , 0.09329088,\n",
       "        0.09341535, 0.09341008, 0.09354078, 0.09350011, 0.09310429,\n",
       "        0.09373363, 0.09316606, 0.09325199, 0.09343473, 0.09314505,\n",
       "        0.09367479, 0.09361283, 0.09356313, 0.09324094, 0.09319459,\n",
       "        0.09304116, 0.09375606, 0.09347393, 0.09370216, 0.09347106,\n",
       "        0.09404488, 0.09340436, 0.09318543, 0.09368379, 0.09366874,\n",
       "        0.09316289, 0.09394835, 0.09331857, 0.0937246 , 0.09386934,\n",
       "        0.09334395, 0.09343671, 0.093267  , 0.09366272, 0.09306848,\n",
       "        0.09361242, 0.09342674, 0.09308653, 0.09321279, 0.09289176,\n",
       "        0.09357537, 0.09307828, 0.09344755, 0.09307428, 0.09343671,\n",
       "        0.09391207, 0.09306762, 0.09331632, 0.09358553, 0.09355293,\n",
       "        0.09405584, 0.09349027, 0.09341168, 0.09364535, 0.09392069,\n",
       "        0.0937916 , 0.0938612 , 0.09372952, 0.09354237, 0.09351505,\n",
       "        0.09389457, 0.09389948, 0.09372108, 0.09338578, 0.0934654 ,\n",
       "        0.09394275, 0.09342901, 0.09368188, 0.09373662, 0.09408289,\n",
       "        0.09367179, 0.09343197, 0.09341082, 0.0937906 , 0.0938635 ,\n",
       "        0.09376672, 0.09350454, 0.09300263, 0.09331154, 0.09314706,\n",
       "        0.0935382 , 0.09373384, 0.09336152, 0.09346307, 0.09310797,\n",
       "        0.09319938, 0.09357615, 0.09295611, 0.09373934, 0.09298047,\n",
       "        0.09333167, 0.09387158, 0.09317259, 0.0934542 , 0.09374557,\n",
       "        0.09319153, 0.09303158, 0.09363051, 0.09304856, 0.09384006,\n",
       "        0.0938289 , 0.09286332, 0.09361408, 0.09334048, 0.09352437,\n",
       "        0.09312839, 0.09319776, 0.09350256, 0.09350546, 0.09402231,\n",
       "        0.09320056, 0.0933175 , 0.09319753, 0.09368015, 0.09316658,\n",
       "        0.0940712 , 0.09314776, 0.09366854, 0.09341738, 0.09390726,\n",
       "        0.09335173, 0.09332763, 0.09326885, 0.0933545 , 0.09332371,\n",
       "        0.0934229 , 0.09364254, 0.09388119, 0.09285576, 0.09409647,\n",
       "        0.09398464, 0.09303491, 0.09314631, 0.09360141, 0.09308758,\n",
       "        0.09349835, 0.09340443, 0.09306278, 0.09325307, 0.09388707,\n",
       "        0.0938834 , 0.09329788, 0.09337135, 0.09384778, 0.09320144,\n",
       "        0.09347274, 0.09361517, 0.09354036, 0.09340382, 0.09302459,\n",
       "        0.09357753, 0.0935914 , 0.09356879, 0.09400427, 0.09387037,\n",
       "        0.09364015, 0.09354502, 0.09302255, 0.09372698, 0.09362727,\n",
       "        0.09318853, 0.09326012, 0.09356271, 0.09328306, 0.09331348,\n",
       "        0.09357253, 0.09282693, 0.09332639, 0.09345177, 0.0939327 ,\n",
       "        0.09335173, 0.09338226, 0.09361029, 0.09326797, 0.09335689,\n",
       "        0.09394522, 0.09319198, 0.09340566, 0.09370364, 0.09348653,\n",
       "        0.09390538, 0.09333364, 0.09411147, 0.0929833 , 0.09355211,\n",
       "        0.09320744, 0.09364857, 0.09298859, 0.09278601, 0.09280076,\n",
       "        0.09295213, 0.09338274, 0.09335353, 0.09403737, 0.0938551 ,\n",
       "        0.09331391, 0.09309906, 0.09339781, 0.09357272, 0.09358578,\n",
       "        0.09386426, 0.09362361, 0.09351153, 0.09342517, 0.09328152,\n",
       "        0.09305825, 0.09355412, 0.09335807, 0.09289866, 0.09369568,\n",
       "        0.09346445, 0.09358919, 0.09365266, 0.09368031, 0.0936409 ,\n",
       "        0.0936484 , 0.09394757, 0.09325171, 0.09364396, 0.09331995,\n",
       "        0.09367564, 0.09354148, 0.09349087, 0.09407132, 0.0928252 ,\n",
       "        0.09348503, 0.09351971, 0.09316759, 0.09371315, 0.09344701,\n",
       "        0.09347262, 0.0928434 , 0.09354146, 0.09346505, 0.09356759,\n",
       "        0.09296429, 0.09395248, 0.09285124, 0.09382824, 0.09316794,\n",
       "        0.09359039, 0.09371063, 0.09335971, 0.09292907, 0.09327204,\n",
       "        0.09364787, 0.09385583, 0.09328461, 0.09327798, 0.09347613,\n",
       "        0.09283296, 0.09348581, 0.09358913, 0.09368054, 0.09297786,\n",
       "        0.09380411, 0.0930104 , 0.09395243, 0.09337523, 0.09344803,\n",
       "        0.09355887, 0.09343173, 0.09372661, 0.09282144, 0.09348132,\n",
       "        0.09324301, 0.09322813, 0.09370022, 0.09352244, 0.09340814,\n",
       "        0.09355358, 0.09393141, 0.09384478, 0.09362383, 0.09342491,\n",
       "        0.09336685, 0.09375819, 0.09404626, 0.09293405, 0.09338852,\n",
       "        0.09319983, 0.09339903, 0.09354407, 0.09347841, 0.09336646,\n",
       "        0.09322943, 0.09387385, 0.09339083, 0.09317553, 0.0938685 ,\n",
       "        0.09320635, 0.09359777, 0.0929278 , 0.09335401, 0.09364069,\n",
       "        0.09365086, 0.093206  , 0.09284204, 0.09290306, 0.09328467,\n",
       "        0.09313165, 0.09343753, 0.09385856, 0.09400537, 0.09281401,\n",
       "        0.09319237, 0.09343634, 0.09342161, 0.09328372, 0.09390186,\n",
       "        0.09352835, 0.09353975, 0.0932597 , 0.09310824, 0.0935807 ,\n",
       "        0.09383178, 0.09407845, 0.092818  , 0.09290098, 0.09362026,\n",
       "        0.09371448, 0.09320715, 0.09350616, 0.09332962, 0.09334916,\n",
       "        0.09410778, 0.09341274, 0.09336551, 0.09360651, 0.09371738,\n",
       "        0.09338329, 0.09338129, 0.09307238, 0.09375642, 0.09369873,\n",
       "        0.09345603, 0.09282423, 0.09374515, 0.09380369, 0.09319787,\n",
       "        0.09396582, 0.09401945, 0.09345019, 0.09328815, 0.09303968,\n",
       "        0.09328099, 0.09345347, 0.09323644, 0.09359055, 0.09406437,\n",
       "        0.09345549, 0.09331855, 0.09335474, 0.09370892, 0.09322446,\n",
       "        0.09343606, 0.0931217 , 0.09335403, 0.09373505, 0.0937273 ,\n",
       "        0.09399097, 0.0939705 , 0.09358499, 0.09296147, 0.09407609,\n",
       "        0.0929825 , 0.09297916, 0.09324307, 0.09406565, 0.09381495,\n",
       "        0.09347512, 0.09328888, 0.09372595, 0.09328503, 0.09337903,\n",
       "        0.09324387, 0.09386242, 0.09391621, 0.09338888, 0.09302237,\n",
       "        0.09300775, 0.09357424, 0.09387181, 0.09321775, 0.09285102,\n",
       "        0.0929254 , 0.09361302, 0.09377267, 0.0930574 , 0.09308117,\n",
       "        0.09302505, 0.09334441, 0.09400063, 0.09349086, 0.09395423,\n",
       "        0.09349476, 0.0938958 , 0.09360357, 0.09349612, 0.09349267,\n",
       "        0.09323086, 0.09335671, 0.09329716, 0.09313845, 0.0936736 ,\n",
       "        0.09293679, 0.09359481, 0.09359767, 0.0933898 , 0.09313632,\n",
       "        0.09340976, 0.09326531, 0.09328602, 0.09349173, 0.09320335,\n",
       "        0.09364614, 0.09401794, 0.09314221, 0.09330672, 0.0934996 ,\n",
       "        0.09347341, 0.09344652, 0.09352818, 0.09341707, 0.09362416,\n",
       "        0.09305824, 0.09409042, 0.09397678, 0.09356392, 0.093384  ,\n",
       "        0.09356951, 0.09312487, 0.09371739, 0.09344843, 0.09331285,\n",
       "        0.09365488, 0.09348354, 0.09373813, 0.09326311, 0.09290288,\n",
       "        0.09328507, 0.09340288, 0.09373103, 0.09358952, 0.0935289 ,\n",
       "        0.09344702, 0.09324536, 0.09289043, 0.09298296, 0.09301029,\n",
       "        0.09379079, 0.09359167, 0.09287123, 0.09342852, 0.09363673,\n",
       "        0.09308383, 0.09366943, 0.09341697, 0.09352924, 0.09341777,\n",
       "        0.09316422, 0.09344512, 0.09352186, 0.09383678, 0.0933498 ,\n",
       "        0.09385478, 0.09403764, 0.09334821, 0.09399204, 0.09351311,\n",
       "        0.09307044, 0.09353118, 0.0934306 , 0.0932026 , 0.09339531,\n",
       "        0.09388485, 0.09360186, 0.09331661, 0.09319377, 0.09401545,\n",
       "        0.09383576, 0.09346638, 0.09315653, 0.09409322, 0.0937737 ,\n",
       "        0.09381594, 0.09387218, 0.0928326 , 0.0935848 , 0.09312599,\n",
       "        0.09359155, 0.09313386, 0.09300457, 0.09326495, 0.09360042,\n",
       "        0.09351631, 0.09389224, 0.0934219 , 0.09338097, 0.09397036,\n",
       "        0.09279339, 0.09298721, 0.09322017, 0.09351643, 0.09330963,\n",
       "        0.09370774, 0.0928708 , 0.09340184, 0.09318364, 0.09333761,\n",
       "        0.0930367 , 0.09300557, 0.09349512, 0.09314844, 0.09343064,\n",
       "        0.09292406, 0.09327541, 0.09344431, 0.09327654, 0.09382642,\n",
       "        0.09346032, 0.09356148, 0.09372621, 0.0936188 , 0.09367505,\n",
       "        0.09350217, 0.09401082, 0.09343048, 0.09347874, 0.09346008,\n",
       "        0.09339514, 0.09352045, 0.0936507 , 0.0933344 , 0.09332579,\n",
       "        0.0937083 , 0.09346655, 0.09287214, 0.09339297, 0.09349765,\n",
       "        0.09349462, 0.09366545, 0.09279878, 0.09335148, 0.09346789,\n",
       "        0.09358459, 0.09289614, 0.0930377 , 0.0936277 , 0.09284111,\n",
       "        0.09331618, 0.09408394, 0.09341365, 0.09340308, 0.09344882,\n",
       "        0.09355373, 0.09379392, 0.09285034, 0.09350433, 0.09346817,\n",
       "        0.09293624, 0.09344676, 0.09347362, 0.09289985, 0.09339598,\n",
       "        0.09344132, 0.09348811, 0.09357034, 0.09394192, 0.09347025,\n",
       "        0.09342021, 0.09394918, 0.09333046, 0.09408956, 0.09325516,\n",
       "        0.09368754, 0.09372678, 0.09360329, 0.09362816, 0.09343243,\n",
       "        0.0934214 , 0.09345811, 0.09354086, 0.09382641, 0.09361744,\n",
       "        0.09344615, 0.09401618, 0.09346707, 0.09380727, 0.09326465,\n",
       "        0.09382769, 0.09287856, 0.09315491, 0.09301619, 0.09340783,\n",
       "        0.09352506, 0.09340286, 0.09346843, 0.09409397, 0.09321906,\n",
       "        0.09295653, 0.09383963, 0.09355043, 0.09359755, 0.09356919,\n",
       "        0.09322709, 0.09336447, 0.09386328, 0.09410151, 0.09350229,\n",
       "        0.09315234, 0.09376334, 0.09348202, 0.09406608, 0.0928072 ,\n",
       "        0.09391118, 0.09380036, 0.09372064, 0.093426  , 0.09324254,\n",
       "        0.09322433, 0.09336559, 0.09331607, 0.09302468, 0.09370531,\n",
       "        0.09341615, 0.09370094, 0.09343396, 0.09367765, 0.09361094,\n",
       "        0.09368249, 0.09337169, 0.09357953, 0.09405869, 0.09392654,\n",
       "        0.09314645, 0.09376596, 0.09307183, 0.09395099, 0.09395003,\n",
       "        0.09360258, 0.09285217, 0.09394894, 0.09338092, 0.09305262]),\n",
       " array([0.15583102, 0.16453785, 0.15506098, 0.15616666, 0.15837149,\n",
       "        0.15648763, 0.16785653, 0.15608784, 0.16218442, 0.15503505,\n",
       "        0.1559374 , 0.16411193, 0.16013687, 0.15806655, 0.16344031,\n",
       "        0.16063483, 0.1665624 , 0.16096859, 0.16269761, 0.17045234,\n",
       "        0.15700609, 0.15503025, 0.15527103, 0.15514785, 0.15506451,\n",
       "        0.16075407, 0.16409729, 0.15878154, 0.15925693, 0.16491479,\n",
       "        0.15571704, 0.1551914 , 0.17179919, 0.15622025, 0.15519311,\n",
       "        0.16353675, 0.1594213 , 0.15728912, 0.15737424, 0.15826129,\n",
       "        0.16246066, 0.16099068, 0.15523876, 0.15502851, 0.15505638,\n",
       "        0.15505892, 0.16369949, 0.15509827, 0.17197508, 0.16032044,\n",
       "        0.15507693, 0.15656173, 0.16057551, 0.15631548, 0.15792417,\n",
       "        0.16657398, 0.15688085, 0.15570694, 0.16934791, 0.15543715,\n",
       "        0.15530069, 0.15713012, 0.1555215 , 0.15521756, 0.16776556,\n",
       "        0.15908471, 0.1656006 , 0.17091028, 0.15584025, 0.15951641,\n",
       "        0.17499986, 0.15577415, 0.15689759, 0.15637349, 0.17306303,\n",
       "        0.16025494, 0.15599736, 0.15997384, 0.15514105, 0.15705241,\n",
       "        0.15506286, 0.15716184, 0.15520655, 0.16074675, 0.15514539,\n",
       "        0.16366791, 0.15554305, 0.16828915, 0.15566771, 0.16112571,\n",
       "        0.15652765, 0.1608882 , 0.15959528, 0.15574137, 0.16231335,\n",
       "        0.17332334, 0.16556946, 0.15505438, 0.15504384, 0.17016801,\n",
       "        0.15519211, 0.15845505, 0.1576444 , 0.15701101, 0.16343995,\n",
       "        0.15835547, 0.15505009, 0.16530402, 0.15694705, 0.171351  ,\n",
       "        0.15524512, 0.15923898, 0.16519942, 0.16363926, 0.16527214,\n",
       "        0.15528439, 0.15563853, 0.1573566 , 0.15532207, 0.16765288,\n",
       "        0.15516394, 0.15504302, 0.15986582, 0.16616866, 0.15954106,\n",
       "        0.1718322 , 0.16955959, 0.15561483, 0.15713779, 0.15614944,\n",
       "        0.16236791, 0.15502332, 0.15870707, 0.1728995 , 0.16638616,\n",
       "        0.15547974, 0.15597583, 0.15662889, 0.15778682, 0.15803856,\n",
       "        0.16120373, 0.15782288, 0.15641905, 0.15624632, 0.16844859,\n",
       "        0.16654499, 0.17028792, 0.15664379, 0.15514785, 0.15721808,\n",
       "        0.15907506, 0.16027188, 0.1568733 , 0.15865987, 0.15515204,\n",
       "        0.16704127, 0.15805722, 0.15750758, 0.15528979, 0.15547778,\n",
       "        0.1557753 , 0.15714999, 0.15908764, 0.15572596, 0.16180821,\n",
       "        0.15502467, 0.15502404, 0.16886301, 0.17046706, 0.15673545,\n",
       "        0.15594166, 0.16233878, 0.15526848, 0.15636222, 0.15502372,\n",
       "        0.15504719, 0.15504961, 0.16257642, 0.16024661, 0.15762492,\n",
       "        0.15517896, 0.15629586, 0.15745661, 0.1572882 , 0.15502758,\n",
       "        0.15597296, 0.16007632, 0.15585594, 0.15582362, 0.16231559,\n",
       "        0.15505086, 0.15554932, 0.1557913 , 0.15649076, 0.15579827,\n",
       "        0.15656437, 0.15513777, 0.16395471, 0.15710137, 0.15865298,\n",
       "        0.15553756, 0.15736329, 0.16035261, 0.15929866, 0.15731253,\n",
       "        0.17061268, 0.15525222, 0.1575436 , 0.1552439 , 0.15580603,\n",
       "        0.17104861, 0.15502731, 0.1701456 , 0.1554692 , 0.15742412,\n",
       "        0.15521835, 0.16794012, 0.1714467 , 0.15597901, 0.15788375,\n",
       "        0.15502288, 0.15620511, 0.16703674, 0.15505753, 0.15771246,\n",
       "        0.16262674, 0.1557033 , 0.1565121 , 0.15517819, 0.1550819 ,\n",
       "        0.16028067, 0.15745189, 0.15861527, 0.17051948, 0.1651322 ,\n",
       "        0.15503825, 0.15507324, 0.15606645, 0.16846079, 0.1641047 ,\n",
       "        0.1555306 , 0.16284297, 0.15641711, 0.15529463, 0.16099307,\n",
       "        0.15523757, 0.16456208, 0.16921172, 0.15504979, 0.17088244,\n",
       "        0.15504064, 0.15637526, 0.15606625, 0.15539714, 0.15983158,\n",
       "        0.166034  , 0.15969017, 0.15526458, 0.15532965, 0.16024297,\n",
       "        0.1605487 , 0.15604734, 0.15507465, 0.16925889, 0.15798518,\n",
       "        0.16403419, 0.16011459, 0.15830842, 0.1573938 , 0.15626538,\n",
       "        0.15502753, 0.16683716, 0.1555576 , 0.16215887, 0.15511891,\n",
       "        0.1550393 , 0.16438784, 0.1600974 , 0.16218377, 0.15531423,\n",
       "        0.15555771, 0.16684469, 0.15517652, 0.16220701, 0.1609381 ,\n",
       "        0.15930132, 0.15600797, 0.155693  , 0.15935593, 0.15908622,\n",
       "        0.15767173, 0.15505141, 0.15897792, 0.16049087, 0.15666058,\n",
       "        0.16124752, 0.16191528, 0.1659915 , 0.15528959, 0.15508459,\n",
       "        0.15785142, 0.16240331, 0.15664301, 0.15519636, 0.15793185,\n",
       "        0.16169576, 0.15897149, 0.15606504, 0.15879353, 0.1595027 ,\n",
       "        0.163158  , 0.15956315, 0.16119583, 0.15526787, 0.16218422,\n",
       "        0.1552265 , 0.16238399, 0.1601447 , 0.15550216, 0.15711986,\n",
       "        0.15791082, 0.15608255, 0.16072161, 0.15646057, 0.16396769,\n",
       "        0.15545077, 0.15741661, 0.15532854, 0.15680481, 0.17301014,\n",
       "        0.15503229, 0.15541931, 0.17379128, 0.16599211, 0.15504013,\n",
       "        0.15882229, 0.15898307, 0.15504074, 0.15912561, 0.16377368,\n",
       "        0.15562053, 0.16931176, 0.15557889, 0.16505608, 0.15503075,\n",
       "        0.16253113, 0.15691025, 0.15520243, 0.15523683, 0.15673722,\n",
       "        0.15539908, 0.15768251, 0.15511357, 0.15513539, 0.15574804,\n",
       "        0.15502307, 0.15502638, 0.15565964, 0.15530315, 0.15931665,\n",
       "        0.15926634, 0.15781344, 0.1562496 , 0.15503178, 0.1582897 ,\n",
       "        0.15783659, 0.15664081, 0.15591631, 0.15641576, 0.15722531,\n",
       "        0.1611703 , 0.15988559, 0.15514976, 0.15846653, 0.15513654,\n",
       "        0.1712467 , 0.15503272, 0.15740676, 0.15803688, 0.15770567,\n",
       "        0.15788287, 0.16678267, 0.15547032, 0.15902856, 0.16361367,\n",
       "        0.15527409, 0.15503453, 0.1560407 , 0.15757832, 0.1603294 ,\n",
       "        0.15663401, 0.15502422, 0.15980593, 0.15688582, 0.16676916,\n",
       "        0.15607523, 0.16004207, 0.15505559, 0.16015834, 0.15503452,\n",
       "        0.16527179, 0.16035488, 0.15549038, 0.15621671, 0.15579385,\n",
       "        0.1717925 , 0.15523847, 0.15502512, 0.15722823, 0.16562225,\n",
       "        0.16094828, 0.16331321, 0.15915734, 0.15567644, 0.15541745,\n",
       "        0.16457625, 0.16476937, 0.15893788, 0.15507305, 0.15511266,\n",
       "        0.16654327, 0.1550258 , 0.1579938 , 0.15934672, 0.17317327,\n",
       "        0.15777126, 0.15502854, 0.15502577, 0.16091697, 0.16339763,\n",
       "        0.16019385, 0.15533501, 0.16245454, 0.15553454, 0.15824253,\n",
       "        0.15563269, 0.15927202, 0.15517106, 0.15510362, 0.15921829,\n",
       "        0.15713339, 0.15608574, 0.16415528, 0.15942026, 0.16324452,\n",
       "        0.15536205, 0.16369735, 0.1576728 , 0.15507359, 0.1595909 ,\n",
       "        0.15728519, 0.1614787 , 0.15694904, 0.16093666, 0.1625558 ,\n",
       "        0.16216954, 0.1680178 , 0.15666169, 0.15529762, 0.15549857,\n",
       "        0.15869307, 0.15716432, 0.15532059, 0.15534182, 0.17014698,\n",
       "        0.15711094, 0.15547983, 0.15716871, 0.15795506, 0.15780216,\n",
       "        0.17257073, 0.15822612, 0.15770144, 0.15502245, 0.16507837,\n",
       "        0.15522514, 0.15539387, 0.15601627, 0.15520898, 0.15542602,\n",
       "        0.15502256, 0.15717407, 0.16406004, 0.16835919, 0.17388336,\n",
       "        0.16838706, 0.16137085, 0.15826008, 0.15645573, 0.15977628,\n",
       "        0.155291  , 0.15503262, 0.16049988, 0.15623393, 0.16428537,\n",
       "        0.16414445, 0.15567162, 0.15512513, 0.16282854, 0.15709424,\n",
       "        0.15514418, 0.15668012, 0.15565519, 0.15503346, 0.16170833,\n",
       "        0.15610455, 0.15630258, 0.15598823, 0.16929246, 0.16365197,\n",
       "        0.15712828, 0.15570498, 0.1617762 , 0.15909072, 0.1568906 ,\n",
       "        0.15734455, 0.15613404, 0.15591118, 0.1558384 , 0.15551636,\n",
       "        0.15603718, 0.16969651, 0.15540386, 0.15506658, 0.16611953,\n",
       "        0.15522512, 0.15508406, 0.15659873, 0.15602787, 0.15519562,\n",
       "        0.16664888, 0.1572763 , 0.15503103, 0.15850225, 0.15521611,\n",
       "        0.16500316, 0.15534706, 0.17468119, 0.16314139, 0.15578441,\n",
       "        0.15698278, 0.15729133, 0.16295072, 0.17168947, 0.17095842,\n",
       "        0.16430824, 0.1550825 , 0.15521459, 0.17087735, 0.16309115,\n",
       "        0.15551239, 0.15945821, 0.15504348, 0.15603971, 0.15622036,\n",
       "        0.16342537, 0.15682562, 0.15538876, 0.15502338, 0.15585694,\n",
       "        0.16063744, 0.15580766, 0.15518917, 0.16647485, 0.15831185,\n",
       "        0.1551089 , 0.15626991, 0.15737258, 0.15795863, 0.1571426 ,\n",
       "        0.15728792, 0.16674918, 0.15625368, 0.15720129, 0.15545821,\n",
       "        0.15785527, 0.15566698, 0.15524219, 0.17257711, 0.16977864,\n",
       "        0.15520752, 0.15545703, 0.15778027, 0.15873673, 0.15505429,\n",
       "        0.15514361, 0.16892594, 0.15566675, 0.15511126, 0.1559727 ,\n",
       "        0.16384431, 0.16696093, 0.16856507, 0.1621471 , 0.1577726 ,\n",
       "        0.15628759, 0.15867381, 0.1551804 , 0.16521744, 0.15597484,\n",
       "        0.15727756, 0.16311767, 0.15582006, 0.15590005, 0.15516031,\n",
       "        0.16941254, 0.15521198, 0.15626897, 0.15796366, 0.16334007,\n",
       "        0.16134588, 0.1621865 , 0.16695848, 0.15510936, 0.15505675,\n",
       "        0.15586411, 0.15502829, 0.159081  , 0.1699576 , 0.15518701,\n",
       "        0.15638389, 0.1566213 , 0.15841983, 0.15548116, 0.15502821,\n",
       "        0.15580134, 0.16606544, 0.16272171, 0.1568296 , 0.15502327,\n",
       "        0.15514512, 0.15994624, 0.17131527, 0.16501768, 0.1550652 ,\n",
       "        0.15712482, 0.15504119, 0.15569467, 0.15517173, 0.15514691,\n",
       "        0.15659977, 0.16378229, 0.15505909, 0.15761069, 0.16358236,\n",
       "        0.15700287, 0.15639903, 0.16526852, 0.15521179, 0.15713867,\n",
       "        0.15733652, 0.15700933, 0.16898868, 0.16628851, 0.1558194 ,\n",
       "        0.15861233, 0.15503576, 0.16321671, 0.16934378, 0.17031399,\n",
       "        0.15726869, 0.15503399, 0.1550223 , 0.15583063, 0.16486347,\n",
       "        0.15553549, 0.1556488 , 0.15613986, 0.15921123, 0.15614832,\n",
       "        0.16226823, 0.17294333, 0.17012242, 0.16637639, 0.15676719,\n",
       "        0.15876997, 0.1569881 , 0.15534712, 0.155378  , 0.15524074,\n",
       "        0.17448398, 0.15502441, 0.15515141, 0.15653696, 0.15884334,\n",
       "        0.15508072, 0.15508729, 0.16021405, 0.1598957 , 0.15838415,\n",
       "        0.15507924, 0.16982487, 0.15957924, 0.16133238, 0.15716204,\n",
       "        0.16754375, 0.17001003, 0.15506228, 0.15577902, 0.16121748,\n",
       "        0.15586323, 0.15507144, 0.1564864 , 0.15628998, 0.17222293,\n",
       "        0.15507754, 0.15547044, 0.15520761, 0.15863151, 0.15668289,\n",
       "        0.15503359, 0.15886139, 0.1552117 , 0.15930441, 0.15909911,\n",
       "        0.16867625, 0.16775116, 0.15620901, 0.16395108, 0.17282189,\n",
       "        0.16317047, 0.16329246, 0.15638297, 0.17228768, 0.16170014,\n",
       "        0.15515541, 0.1557707 , 0.1590639 , 0.15581522, 0.15509516,\n",
       "        0.15637075, 0.16335764, 0.16543937, 0.1550642 , 0.1617822 ,\n",
       "        0.16227714, 0.15605991, 0.16370596, 0.15679814, 0.16857538,\n",
       "        0.16536534, 0.15664392, 0.1603698 , 0.1606631 , 0.1599588 ,\n",
       "        0.16169337, 0.15527101, 0.16912234, 0.15524214, 0.16703642,\n",
       "        0.15526695, 0.1646244 , 0.1564899 , 0.15527589, 0.15525349,\n",
       "        0.15657631, 0.15519661, 0.15567924, 0.15844674, 0.15781053,\n",
       "        0.16490843, 0.15635379, 0.15639748, 0.15506174, 0.15849828,\n",
       "        0.15502666, 0.15606315, 0.15580358, 0.15524758, 0.15705846,\n",
       "        0.15724368, 0.16993816, 0.1583568 , 0.15558108, 0.15529958,\n",
       "        0.15514728, 0.15505314, 0.15553384, 0.15502252, 0.15683538,\n",
       "        0.16063765, 0.17356569, 0.16803168, 0.15592619, 0.15507846,\n",
       "        0.15599759, 0.15878117, 0.15884347, 0.15505775, 0.15552227,\n",
       "        0.15741735, 0.15519911, 0.15938743, 0.156093  , 0.16629631,\n",
       "        0.15581472, 0.15503482, 0.15919731, 0.15627471, 0.15554067,\n",
       "        0.15505433, 0.15634805, 0.16682654, 0.1631539 , 0.16219   ,\n",
       "        0.16092271, 0.15630662, 0.16766492, 0.15502542, 0.15706392,\n",
       "        0.15988273, 0.15772032, 0.15502254, 0.15554388, 0.15502237,\n",
       "        0.15785363, 0.15504997, 0.15547591, 0.16244111, 0.1552368 ,\n",
       "        0.16307933, 0.17089039, 0.15524665, 0.16872515, 0.15540151,\n",
       "        0.16027125, 0.15556258, 0.15502718, 0.15707247, 0.15504859,\n",
       "        0.16419998, 0.15646274, 0.15548778, 0.15724141, 0.16981923,\n",
       "        0.1624056 , 0.15511657, 0.158025  , 0.17371252, 0.16040051,\n",
       "        0.1617328 , 0.16371961, 0.16942934, 0.15620634, 0.15875295,\n",
       "        0.15630475, 0.15855805, 0.16238712, 0.15606805, 0.15644012,\n",
       "        0.15542792, 0.1644857 , 0.15502234, 0.15508839, 0.16774495,\n",
       "        0.17132209, 0.16300021, 0.15675613, 0.15542896, 0.15555271,\n",
       "        0.15860255, 0.16768423, 0.15503642, 0.15744301, 0.15531784,\n",
       "        0.1613128 , 0.16235264, 0.15526929, 0.1582104 , 0.15502721,\n",
       "        0.16541968, 0.15593196, 0.15504822, 0.15591782, 0.16208513,\n",
       "        0.15509358, 0.15589589, 0.15907072, 0.15674188, 0.15784216,\n",
       "        0.15531773, 0.16960009, 0.15502706, 0.15517346, 0.15509273,\n",
       "        0.15504895, 0.15546354, 0.15733351, 0.15534136, 0.15540881,\n",
       "        0.15861617, 0.15511727, 0.1676248 , 0.15505387, 0.15528622,\n",
       "        0.15526605, 0.15763578, 0.17105571, 0.15522663, 0.15512284,\n",
       "        0.15620332, 0.16658203, 0.16128068, 0.15689842, 0.16903207,\n",
       "        0.15549163, 0.17322755, 0.15502387, 0.15503454, 0.15505874,\n",
       "        0.15580314, 0.16102105, 0.16860639, 0.15533349, 0.15512401,\n",
       "        0.16493035, 0.15505371, 0.1551483 , 0.16642415, 0.15504717,\n",
       "        0.15504223, 0.15522542, 0.15600839, 0.16650819, 0.15513295,\n",
       "        0.15502217, 0.1668183 , 0.15537142, 0.17352039, 0.15620389,\n",
       "        0.15812235, 0.15908549, 0.15648546, 0.15690662, 0.15502904,\n",
       "        0.15502227, 0.15508597, 0.15566047, 0.16208469, 0.15671869,\n",
       "        0.15505228, 0.16985406, 0.15511939, 0.16144804, 0.15607205,\n",
       "        0.16212803, 0.16734179, 0.15806171, 0.16198962, 0.15502853,\n",
       "        0.15550482, 0.15503485, 0.1551251 , 0.17375188, 0.15677527,\n",
       "        0.16413909, 0.1625405 , 0.15576521, 0.15639565, 0.15599337,\n",
       "        0.15663864, 0.1551564 , 0.16338943, 0.17414983, 0.15531861,\n",
       "        0.15812029, 0.16009496, 0.15519078, 0.17230991, 0.17064381,\n",
       "        0.16523564, 0.16122531, 0.1589264 , 0.1550238 , 0.15639112,\n",
       "        0.15668503, 0.15515103, 0.15549263, 0.16170562, 0.15854296,\n",
       "        0.15502278, 0.15843714, 0.15503081, 0.15789944, 0.15660943,\n",
       "        0.15800745, 0.15512372, 0.15613211, 0.17193607, 0.16586307,\n",
       "        0.15825671, 0.16017133, 0.16023031, 0.16689633, 0.16685511,\n",
       "        0.15647408, 0.16852269, 0.1668081 , 0.15508857, 0.16081036]))"
      ]
     },
     "execution_count": 28,
     "metadata": {},
     "output_type": "execute_result"
    }
   ],
   "source": [
    "pfolio_returns=[]\n",
    "pfolio_volatilities=[]\n",
    "for x in range(1000):\n",
    "    weights = np.random.random(num_assets)\n",
    "    weights /= np.sum(weights)\n",
    "    pfolio_returns.append(np.sum(weights * log_returns.mean())*250)\n",
    "    pfolio_volatilities.append(np.sqrt(np.dot(weights.T, np.dot(log_returns.cov()*250, weights))))\n",
    "    \n",
    "pfolio_returns = np.array(pfolio_returns)\n",
    "pfolio_volatilities = np.array(pfolio_volatilities)\n",
    "pfolio_returns, pfolio_volatilities"
   ]
  },
  {
   "cell_type": "code",
   "execution_count": 29,
   "metadata": {},
   "outputs": [],
   "source": [
    "portfolios = pd.DataFrame({'Return':  pfolio_returns, 'Volatility': pfolio_volatilities})"
   ]
  },
  {
   "cell_type": "code",
   "execution_count": 30,
   "metadata": {},
   "outputs": [
    {
     "data": {
      "text/html": [
       "<div>\n",
       "<style scoped>\n",
       "    .dataframe tbody tr th:only-of-type {\n",
       "        vertical-align: middle;\n",
       "    }\n",
       "\n",
       "    .dataframe tbody tr th {\n",
       "        vertical-align: top;\n",
       "    }\n",
       "\n",
       "    .dataframe thead th {\n",
       "        text-align: right;\n",
       "    }\n",
       "</style>\n",
       "<table border=\"1\" class=\"dataframe\">\n",
       "  <thead>\n",
       "    <tr style=\"text-align: right;\">\n",
       "      <th></th>\n",
       "      <th>Return</th>\n",
       "      <th>Volatility</th>\n",
       "    </tr>\n",
       "  </thead>\n",
       "  <tbody>\n",
       "    <tr>\n",
       "      <th>0</th>\n",
       "      <td>0.093556</td>\n",
       "      <td>0.155831</td>\n",
       "    </tr>\n",
       "    <tr>\n",
       "      <th>1</th>\n",
       "      <td>0.093894</td>\n",
       "      <td>0.164538</td>\n",
       "    </tr>\n",
       "    <tr>\n",
       "      <th>2</th>\n",
       "      <td>0.093390</td>\n",
       "      <td>0.155061</td>\n",
       "    </tr>\n",
       "    <tr>\n",
       "      <th>3</th>\n",
       "      <td>0.093582</td>\n",
       "      <td>0.156167</td>\n",
       "    </tr>\n",
       "    <tr>\n",
       "      <th>4</th>\n",
       "      <td>0.093142</td>\n",
       "      <td>0.158371</td>\n",
       "    </tr>\n",
       "  </tbody>\n",
       "</table>\n",
       "</div>"
      ],
      "text/plain": [
       "     Return  Volatility\n",
       "0  0.093556    0.155831\n",
       "1  0.093894    0.164538\n",
       "2  0.093390    0.155061\n",
       "3  0.093582    0.156167\n",
       "4  0.093142    0.158371"
      ]
     },
     "execution_count": 30,
     "metadata": {},
     "output_type": "execute_result"
    }
   ],
   "source": [
    "portfolios.head()"
   ]
  },
  {
   "cell_type": "code",
   "execution_count": 31,
   "metadata": {},
   "outputs": [
    {
     "data": {
      "text/html": [
       "<div>\n",
       "<style scoped>\n",
       "    .dataframe tbody tr th:only-of-type {\n",
       "        vertical-align: middle;\n",
       "    }\n",
       "\n",
       "    .dataframe tbody tr th {\n",
       "        vertical-align: top;\n",
       "    }\n",
       "\n",
       "    .dataframe thead th {\n",
       "        text-align: right;\n",
       "    }\n",
       "</style>\n",
       "<table border=\"1\" class=\"dataframe\">\n",
       "  <thead>\n",
       "    <tr style=\"text-align: right;\">\n",
       "      <th></th>\n",
       "      <th>Return</th>\n",
       "      <th>Volatility</th>\n",
       "    </tr>\n",
       "  </thead>\n",
       "  <tbody>\n",
       "    <tr>\n",
       "      <th>995</th>\n",
       "      <td>0.093603</td>\n",
       "      <td>0.156474</td>\n",
       "    </tr>\n",
       "    <tr>\n",
       "      <th>996</th>\n",
       "      <td>0.092852</td>\n",
       "      <td>0.168523</td>\n",
       "    </tr>\n",
       "    <tr>\n",
       "      <th>997</th>\n",
       "      <td>0.093949</td>\n",
       "      <td>0.166808</td>\n",
       "    </tr>\n",
       "    <tr>\n",
       "      <th>998</th>\n",
       "      <td>0.093381</td>\n",
       "      <td>0.155089</td>\n",
       "    </tr>\n",
       "    <tr>\n",
       "      <th>999</th>\n",
       "      <td>0.093053</td>\n",
       "      <td>0.160810</td>\n",
       "    </tr>\n",
       "  </tbody>\n",
       "</table>\n",
       "</div>"
      ],
      "text/plain": [
       "       Return  Volatility\n",
       "995  0.093603    0.156474\n",
       "996  0.092852    0.168523\n",
       "997  0.093949    0.166808\n",
       "998  0.093381    0.155089\n",
       "999  0.093053    0.160810"
      ]
     },
     "execution_count": 31,
     "metadata": {},
     "output_type": "execute_result"
    }
   ],
   "source": [
    "portfolios.tail()"
   ]
  },
  {
   "cell_type": "code",
   "execution_count": 39,
   "metadata": {},
   "outputs": [
    {
     "data": {
      "text/plain": [
       "Text(0, 0.5, 'Expected return')"
      ]
     },
     "execution_count": 39,
     "metadata": {},
     "output_type": "execute_result"
    },
    {
     "data": {
      "image/png": "[encoded data removed]",
      "text/plain": [
       "<Figure size 864x864 with 1 Axes>"
      ]
     },
     "metadata": {
      "needs_background": "light"
     },
     "output_type": "display_data"
    }
   ],
   "source": [
    "portfolios.plot(x='Volatility', y='Return', kind='scatter', figsize=(12,12))\n",
    "plt.xlabel('Expected volatility')\n",
    "plt.ylabel('Expected return')"
   ]
  },
  {
   "cell_type": "code",
   "execution_count": null,
   "metadata": {},
   "outputs": [],
   "source": []
  }
 ],
 "metadata": {
  "kernelspec": {
   "display_name": "Python 3",
   "language": "python",
   "name": "python3"
  },
  "language_info": {
   "codemirror_mode": {
    "name": "ipython",
    "version": 3
   },
   "file_extension": ".py",
   "mimetype": "text/x-python",
   "name": "python",
   "nbconvert_exporter": "python",
   "pygments_lexer": "ipython3",
   "version": "3.7.6"
  }
 },
 "nbformat": 4,
 "nbformat_minor": 4
}
